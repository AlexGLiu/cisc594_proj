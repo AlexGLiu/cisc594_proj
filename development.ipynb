{
 "cells": [
  {
   "cell_type": "markdown",
   "id": "681fc347",
   "metadata": {},
   "source": [
    "## Card Game Suppress Seven"
   ]
  },
  {
   "cell_type": "markdown",
   "id": "63510638",
   "metadata": {},
   "source": [
    "### Rules\n",
    "    - Use the 52 cards in 4 colors: Heart, Diamond, Spade and Club.\n",
    "    - Four players, each one gets 13 cards in the beginning.\n",
    "    - The player who has Spade 7 on hand goes first.\n",
    "    - The players must use the cards which have the same color and consecutive number to the cards on the board.\n",
    "        - For example, if there is ♠7 on board, the next player must use ♠6, ♠8 or ♥7,♦7,♣7.\n",
    "    - If a player has not card can be used, he/she needs to suppress one card. This card should not be seen by the other players until the end of this game.\n",
    "    - The total points of the suppressed cards would be calculated at the end of the game, the one has the least points win."
   ]
  },
  {
   "cell_type": "code",
   "execution_count": 1,
   "id": "b3fc4a4e",
   "metadata": {},
   "outputs": [],
   "source": [
    "import numpy as np\n",
    "import names\n",
    "import random\n",
    "from collections import OrderedDict, deque, defaultdict"
   ]
  },
  {
   "cell_type": "code",
   "execution_count": 2,
   "id": "9a285103",
   "metadata": {},
   "outputs": [],
   "source": [
    "class CustomError(Exception):\n",
    "    \"\"\"Base class for exceptions in this module.\"\"\"\n",
    "    pass"
   ]
  },
  {
   "cell_type": "code",
   "execution_count": 3,
   "id": "52f9d1c9",
   "metadata": {},
   "outputs": [],
   "source": [
    "class CardNumberError(CustomError):\n",
    "    def __init__(self, message, number):\n",
    "        self.message = message\n",
    "        self.number = number\n",
    "    def __str__(self):\n",
    "        return f\"The numer {self.number} is {self.message} than the allowed card number range: 1~52.\"\n",
    "class CardNumberDisaster(CustomError):\n",
    "    def __init__(self,card):\n",
    "        self.card = card\n",
    "    def __str__(self):\n",
    "        return f\"The card numer {self.card.name()} is illegal.\""
   ]
  },
  {
   "cell_type": "code",
   "execution_count": 4,
   "id": "e255e2c1",
   "metadata": {},
   "outputs": [],
   "source": [
    "# It is the card class, there are 52 cards in total, 13 cards for each suit. \n",
    "# So that we use the id between 1 and 52 to initialize the card.\n",
    "class Card:\n",
    "    suit_map = {0: 'Heart',\n",
    "                1: 'Diamond',\n",
    "                2: 'Spade',\n",
    "                3: 'Club'}\n",
    "    def __init__(self, number, card_code=None):\n",
    "        if number > 52:\n",
    "            raise CardNumberError('larger', number)\n",
    "        elif number < 1:\n",
    "            raise CardNumberError('smaller', number)\n",
    "        else:\n",
    "            self.number = (number-1)%13+1     # it is the number of this card, no matter which suit, 1-13\n",
    "            self.suit = Card.suit_map[(number-1)//13] # it is the suit, one of the four\n",
    "            self.card_id = number              # it is the id of the card, each card has an unique id, 1-52\n",
    "            self.name = self.name()\n",
    "            self.left = None\n",
    "            self.right = None\n",
    "            self.previous = None\n",
    "            self.available = False\n",
    "            self.suppressed = False\n",
    "            self.player_id = None\n",
    "            self.card_code = number if card_code is None else card_code\n",
    "            self.onboard = False\n",
    "    def __str__(self):\n",
    "        return f\"This card is {self.suit} {self.number}. The uid of this card is {self.card_id}.\"\n",
    "    \n",
    "    def name(self):\n",
    "        return f\"{self.suit} {self.number}\"\n",
    "    \n",
    "    # if the card is to be used\n",
    "    def issue(self):\n",
    "        self.onboard = True\n",
    "        self.available = False\n",
    "        if self.left is not None:\n",
    "            self.left.available = True\n",
    "        if self.right is not None:\n",
    "            self.right.available = True\n",
    "    \n",
    "    # if the card is to be suppressed\n",
    "    def suppress(self):\n",
    "        self.suppressed = True\n",
    "        self.available = False"
   ]
  },
  {
   "cell_type": "code",
   "execution_count": 5,
   "id": "86b66a54",
   "metadata": {},
   "outputs": [],
   "source": [
    "class Player:\n",
    "    identity=0    # it will be accumlated for each player\n",
    "    def __init__(self, name=None, email=None):\n",
    "        Player.identity += 1\n",
    "        self.name = name or names.get_first_name()\n",
    "        self.email = email\n",
    "        self.player_id = Player.identity\n",
    "        self.hand_card = None\n",
    "        self.decoder = {} # only the player himself/herself knows the code of his/her own cards\n",
    "        self.available = []\n",
    "        self.suppressed = {} # easier for the player to show suppressed card by suits\n",
    "        self.score = 0\n",
    "    def send(self, text, round_count, game_id):\n",
    "        if self.email is None:\n",
    "            print(text)\n",
    "        else:\n",
    "#           leave blank here, may or may not to be updated for email use\n",
    "            print(text)\n",
    "    def get_hand_cards(self, hand_card):\n",
    "        for card in hand_card:\n",
    "            card.player_id = self.player_id\n",
    "            self.decoder[card.card_code] = card.card_id # All the card are represented by card id in the backend\n",
    "        self.hand_card = OrderedDict(sorted([(card.card_id, card) for card in hand_card]))\n",
    "    \n",
    "    def _check_available(self):\n",
    "        self.available = []\n",
    "        for card_id, card in self.hand_card.items():\n",
    "            if card.available:\n",
    "                self.available.append(card_id)\n",
    "                \n",
    "    def show_available(self):\n",
    "        send_text = \"You current available cards are:\\n\"\n",
    "        for card_id in self.available:\n",
    "            send_text += (f\"{self.hand_card[card_id].name} is available, \" \n",
    "                          + f\"use card code {self.hand_card[card_id].card_code} if you want to use.\\n\")\n",
    "        return send_text\n",
    "    \n",
    "    # tell the player which cards are in hand, which are available or have to suppress\n",
    "    def show_hand_cards(self):\n",
    "        send_text = \"You currently have:\\n\"\n",
    "        suppress_text = \"\\nYou have to suppress: \\n\"\n",
    "        hand_cards = defaultdict(list)\n",
    "        suppressed_cards = defaultdict(list)\n",
    "        for card_id in self.hand_card.keys():\n",
    "            hand_cards[self.hand_card[card_id].suit].append(str(self.hand_card[card_id].number))\n",
    "            suppress_text += (f\"{self.hand_card[card_id].name} is in your hand, \" \n",
    "                              + f\"use card code {self.hand_card[card_id].card_code} if you want to suppress. \\n\")\n",
    "        for card_id in self.suppressed.keys():\n",
    "            suppressed_cards[self.suppressed[card_id].suit].append(str(self.suppressed[card_id].number))\n",
    "        for suit in hand_cards.keys():\n",
    "            send_text += f\"{suit} {', '.join(hand_cards[suit])}.\\n\"\n",
    "        send_text += '\\nYou have suppressed: \\n'\n",
    "        for suit in suppressed_cards.keys():\n",
    "            send_text += f\"{suit} {', '.join(suppressed_cards[suit])}.\\n\"    \n",
    "        if len(self.available) == 0:  # only if there is no card available, player is allowed to suppress card\n",
    "            send_text += suppress_text\n",
    "        return send_text \n",
    "    \n",
    "    def issue(self, card_id):\n",
    "        self._check_available()\n",
    "        if len(self.available) == 0:\n",
    "            print(\"There is no card available, please suppress one instead.\")\n",
    "            return False\n",
    "        elif card_id in self.available:\n",
    "            issued_card = self.hand_card.pop(card_id)\n",
    "            issued_card.issue()\n",
    "            return True\n",
    "        elif card_id in self.hand_card.keys():\n",
    "            print(\"This card is not available, please try again.\")\n",
    "            return False\n",
    "        elif card_id < 1 or card_id > 52:\n",
    "            print(\"Not a valid card id, please try again.\")\n",
    "            return False\n",
    "        else:\n",
    "            print('Not in your hand, please try again.')\n",
    "            return False\n",
    "    \n",
    "    def suppress(self, card_id):\n",
    "        self._check_available()\n",
    "        if len(self.available) > 0:\n",
    "            print(\"You have at least one card available, you need to issue one card.\")\n",
    "            return False\n",
    "        elif card_id in self.available:\n",
    "            print(\"This card is available, you need to issue one card.\")\n",
    "            return False\n",
    "        elif card_id not in self.hand_card.keys():\n",
    "            print(\"You don't have this card, please choose another one.\")\n",
    "            return False\n",
    "        elif card_id in list(self.hand_card.keys()):\n",
    "            suppressed_card = self.hand_card.pop(card_id)\n",
    "            suppressed_card.suppress()\n",
    "            self.suppressed[card_id] = suppressed_card\n",
    "            self.score += suppressed_card.number\n",
    "            return True\n",
    "        else:\n",
    "            print(\"Try again!\")\n",
    "            return False\n",
    "    \n",
    "    # The general action method for players. It will choose the detailed action (issue or suppress) based on \n",
    "    # whether there is any card available on hand\n",
    "    def action(self, round_count, game_id):\n",
    "        self._check_available()\n",
    "        if len(self.available) > 0:\n",
    "            send_text = self.show_hand_cards() + '\\n' + self.show_available()\n",
    "            self.send(send_text, round_count, game_id)\n",
    "            card_code = input(\"Please input the card code you want to issue: \")\n",
    "            try:\n",
    "                card_code = int(card_code)\n",
    "                card_id = self.decoder[card_code]\n",
    "            except:\n",
    "                card_id = 0\n",
    "            return self.issue(card_id)\n",
    "        elif len(self.hand_card) > 0:\n",
    "            send_text = self.show_hand_cards()\n",
    "            self.send(send_text, round_count, game_id)\n",
    "            card_code = input(\"Please input the card code you want to suppress: \")\n",
    "            try:\n",
    "                card_code = int(card_code)\n",
    "                card_id = self.decoder[card_code]\n",
    "            except:\n",
    "                card_id = 0\n",
    "            return self.suppress(card_id)\n",
    "        else:\n",
    "            print(\"You have no card left, pass.\")\n",
    "            return True"
   ]
  },
  {
   "cell_type": "code",
   "execution_count": 6,
   "id": "1d5a24bd",
   "metadata": {},
   "outputs": [],
   "source": [
    "class Game:\n",
    "    identity=0\n",
    "    def __init__(self, random_seed=123):\n",
    "        Game.identity += 1\n",
    "        self.game_id = Game.identity\n",
    "        self.card_map = OrderedDict()    # all the calculation in the backend uses the id (card or player), \n",
    "        self.player_map = OrderedDict()  # need to use this map to link the id to the object\n",
    "        self.card_pool = []\n",
    "        self.players = deque([])   # Here the deque is being used, because the player with Spade 7 need to start, \n",
    "                                   # NOT based on the order of geting card\n",
    "        pool = list(range(1,53))\n",
    "        random.seed(random_seed)\n",
    "        random.shuffle(pool)\n",
    "        self.onboard_cards = []    # record the cards on board\n",
    "        self.min_score = 9999      # after the last round, the player has the lowest score wins\n",
    "        self.winner = None\n",
    "        self.encoder = {}          # create the visiable code for each card, it is different from the card id, \n",
    "                                   #since we do not want the other players know which card is suppressed. \n",
    "                                   # It is different in different game.\n",
    "        for i, v in enumerate(pool):\n",
    "            self.encoder[i+1] = v\n",
    "    def get_cards(self):\n",
    "        previous_card = None\n",
    "        \"\"\"\n",
    "        left means the card which number is -1 of current one, right means +1 of current card.\n",
    "        However, for card.number < 7, +1 card is the previous card of current one, means if the previous card is not on the board, \n",
    "        the current one cannot be available. Since the +1 card already stored as the previous card, no need to set the right card.\n",
    "        The same for card > 7, no need to set .left.\n",
    "        \"\"\"\n",
    "        for i in range(1,53):\n",
    "            this_card = Card(i, self.encoder[i])\n",
    "            if this_card.number < 7:             \n",
    "                this_card.left = previous_card    # left means the card which number is one less than the current one\n",
    "                if previous_card is not None:\n",
    "                    previous_card.previous = this_card  # previous card means, if previous one is not on the board, \n",
    "                                                        # this card cannot be used\n",
    "            elif this_card.number > 7:\n",
    "                this_card.previous = previous_card     #7 is the previous for both 6 and 8, here sets 8's.\n",
    "                if previous_card is not None:\n",
    "                    previous_card.right = this_card \n",
    "            elif this_card.number == 7:           # For all suits, 7 is always be available, and it is the previous for both 6 and 8, \n",
    "                                                  # here sets 6's. \n",
    "                this_card.left = previous_card\n",
    "                previous_card.previous = this_card\n",
    "                this_card.available = True      # set 7 to available\n",
    "\n",
    "            else:\n",
    "                raise CardNumberDisaster(this_card)  # not going to happen\n",
    "            if this_card.number == 13:\n",
    "                previous_card = None\n",
    "            else:\n",
    "                previous_card = this_card\n",
    "            self.card_map[this_card.card_id] = this_card\n",
    "        self.card_pool = list(self.card_map.values())   # list of card class objs\n",
    "        random.shuffle(self.card_pool)\n",
    "    \n",
    "    def prepare(self):\n",
    "        for i in range(4):     # make sure only four players\n",
    "            this_name = input(\"Please input your name: \")\n",
    "            this_name = None if this_name == '' else this_name\n",
    "            this_email = input(\"Please input your email: \")\n",
    "            this_email = None if this_email == '' else this_email\n",
    "            this_player = Player(this_name, this_email)\n",
    "            print(f\"Welcome {this_player.name}, have fun!\")\n",
    "            this_player.get_hand_cards(self.card_pool[i*13:(i+1)*13])\n",
    "            self.player_map[this_player.player_id] = this_player\n",
    "            self.players.append(this_player)  # Here the players are added to the deque one by one\n",
    "            \n",
    "        init_player = self.player_map[self.card_map[33].player_id]  # The one has Spade 7 need to be the first player\n",
    "        first_player_index = self.players.index(init_player)\n",
    "        # Here the new order is rotated, the same order as assigning cards, but the first player has the Spade 7\n",
    "        self.players.rotate(-1*first_player_index)\n",
    "        \n",
    "    def check_onboard(self, show=True):\n",
    "        self.onboard_cards = []\n",
    "        for card_id in self.card_map.keys():\n",
    "            if self.card_map[card_id].onboard:\n",
    "                self.onboard_cards.append(self.card_map[card_id])\n",
    "        if show:\n",
    "            current_onboard = defaultdict(list)\n",
    "            for card in self.onboard_cards:\n",
    "                current_onboard[card.suit].append(str(card.number))\n",
    "            print(\"\\nCurrent onboard cards are:\")\n",
    "            print(\"************************************************\")\n",
    "            for suit in current_onboard.keys():\n",
    "                print(f\"{suit} {', '.join(current_onboard[suit])}.\")\n",
    "            print(\"************************************************\")\n",
    "            \n",
    "    def one_round(self, round_count, game_id, show=True):\n",
    "        for player in self.players:\n",
    "            self.check_onboard(show)\n",
    "            print(f\"\\nIt is {player.name}'s turn.\\n\")\n",
    "            while True:\n",
    "                action_result = player.action(round_count, game_id)\n",
    "                if action_result:\n",
    "                    break\n",
    "                    \n",
    "    def on_going(self):\n",
    "        round_count = 0\n",
    "        while round_count < 13:\n",
    "            self.one_round(round_count, self.game_id)\n",
    "            round_count += 1\n",
    "        # After all rounds, check the result\n",
    "        for player in self.players:\n",
    "            print(f\"{player.name} has {player.score} points.\")\n",
    "            if player.score < self.min_score:\n",
    "                self.min_score = player.score\n",
    "                self.winner = player\n",
    "        print(f\"{self.winner.name} wins!\")"
   ]
  },
  {
   "cell_type": "code",
   "execution_count": 7,
   "id": "535a2c1d",
   "metadata": {},
   "outputs": [],
   "source": [
    "first_game = Game(3245)"
   ]
  },
  {
   "cell_type": "code",
   "execution_count": 8,
   "id": "4d1bddf1",
   "metadata": {},
   "outputs": [],
   "source": [
    "first_game.get_cards()"
   ]
  },
  {
   "cell_type": "code",
   "execution_count": 9,
   "id": "77e5f22d",
   "metadata": {},
   "outputs": [
    {
     "name": "stdout",
     "output_type": "stream",
     "text": [
      "Please input your name: \n",
      "Please input your email: \n",
      "Welcome John, have fun!\n",
      "Please input your name: \n",
      "Please input your email: \n",
      "Welcome Louis, have fun!\n",
      "Please input your name: \n",
      "Please input your email: \n",
      "Welcome Doris, have fun!\n",
      "Please input your name: \n",
      "Please input your email: \n",
      "Welcome Richard, have fun!\n"
     ]
    }
   ],
   "source": [
    "first_game.prepare()"
   ]
  },
  {
   "cell_type": "code",
   "execution_count": 10,
   "id": "d1f5bc44",
   "metadata": {},
   "outputs": [
    {
     "data": {
      "text/plain": [
       "'Doris'"
      ]
     },
     "execution_count": 10,
     "metadata": {},
     "output_type": "execute_result"
    }
   ],
   "source": [
    "first_game.players[0].name"
   ]
  },
  {
   "cell_type": "code",
   "execution_count": 11,
   "id": "f1f5a8a4",
   "metadata": {},
   "outputs": [
    {
     "data": {
      "text/plain": [
       "OrderedDict([(17, <__main__.Card at 0x2814e4dd160>),\n",
       "             (18, <__main__.Card at 0x2814e4dd1f0>),\n",
       "             (21, <__main__.Card at 0x2814e4dd6d0>),\n",
       "             (24, <__main__.Card at 0x2814e4dd0a0>),\n",
       "             (26, <__main__.Card at 0x2814e4dd070>),\n",
       "             (29, <__main__.Card at 0x2814e4dddc0>),\n",
       "             (33, <__main__.Card at 0x2814e4ddd30>),\n",
       "             (36, <__main__.Card at 0x2814e4dd730>),\n",
       "             (40, <__main__.Card at 0x281500f3070>),\n",
       "             (41, <__main__.Card at 0x281500f31f0>),\n",
       "             (44, <__main__.Card at 0x2814e3c8e50>),\n",
       "             (51, <__main__.Card at 0x28150163ee0>),\n",
       "             (52, <__main__.Card at 0x28150163c70>)])"
      ]
     },
     "execution_count": 11,
     "metadata": {},
     "output_type": "execute_result"
    }
   ],
   "source": [
    "first_game.players[0].hand_card"
   ]
  },
  {
   "cell_type": "code",
   "execution_count": 12,
   "id": "c2801ce4",
   "metadata": {},
   "outputs": [
    {
     "name": "stdout",
     "output_type": "stream",
     "text": [
      "This card is Diamond 4. The uid of this card is 17.\n",
      "This card is Diamond 5. The uid of this card is 18.\n",
      "This card is Diamond 8. The uid of this card is 21.\n",
      "This card is Diamond 11. The uid of this card is 24.\n",
      "This card is Diamond 13. The uid of this card is 26.\n",
      "This card is Spade 3. The uid of this card is 29.\n",
      "This card is Spade 7. The uid of this card is 33.\n",
      "it is available\n",
      "This card is Spade 10. The uid of this card is 36.\n",
      "This card is Club 1. The uid of this card is 40.\n",
      "This card is Club 2. The uid of this card is 41.\n",
      "This card is Club 5. The uid of this card is 44.\n",
      "This card is Club 12. The uid of this card is 51.\n",
      "This card is Club 13. The uid of this card is 52.\n"
     ]
    }
   ],
   "source": [
    "for card in first_game.players[0].hand_card.values():\n",
    "    print(card)\n",
    "    if card.available:\n",
    "        print('it is available')"
   ]
  },
  {
   "cell_type": "code",
   "execution_count": 13,
   "id": "cd146c96",
   "metadata": {},
   "outputs": [
    {
     "data": {
      "text/plain": [
       "[]"
      ]
     },
     "execution_count": 13,
     "metadata": {},
     "output_type": "execute_result"
    }
   ],
   "source": [
    "first_game.players[0].available"
   ]
  },
  {
   "cell_type": "code",
   "execution_count": 14,
   "id": "3846e01f",
   "metadata": {},
   "outputs": [
    {
     "data": {
      "text/plain": [
       "'You current available cards are:\\n'"
      ]
     },
     "execution_count": 14,
     "metadata": {},
     "output_type": "execute_result"
    }
   ],
   "source": [
    "first_game.players[0].show_available()"
   ]
  },
  {
   "cell_type": "code",
   "execution_count": 15,
   "id": "690505cc",
   "metadata": {},
   "outputs": [],
   "source": [
    "first_game.players[0]._check_available()"
   ]
  },
  {
   "cell_type": "code",
   "execution_count": 16,
   "id": "69c0f328",
   "metadata": {},
   "outputs": [
    {
     "name": "stdout",
     "output_type": "stream",
     "text": [
      "You current available cards are:\n",
      "Spade 7 is available, use card code 50 if you want to use.\n",
      "\n"
     ]
    }
   ],
   "source": [
    "print(first_game.players[0].show_available())"
   ]
  },
  {
   "cell_type": "code",
   "execution_count": 17,
   "id": "2bda77fa",
   "metadata": {},
   "outputs": [],
   "source": [
    "first_game.players[1]._check_available()"
   ]
  },
  {
   "cell_type": "code",
   "execution_count": 18,
   "id": "843ab28d",
   "metadata": {},
   "outputs": [
    {
     "data": {
      "text/plain": [
       "'You current available cards are:\\nHeart 7 is available, use card code 27 if you want to use.\\nDiamond 7 is available, use card code 20 if you want to use.\\n'"
      ]
     },
     "execution_count": 18,
     "metadata": {},
     "output_type": "execute_result"
    }
   ],
   "source": [
    "first_game.players[1].show_available()"
   ]
  },
  {
   "cell_type": "code",
   "execution_count": 19,
   "id": "50175d1b",
   "metadata": {},
   "outputs": [
    {
     "name": "stdout",
     "output_type": "stream",
     "text": [
      "You current available cards are:\n",
      "\n"
     ]
    }
   ],
   "source": [
    "first_game.players[2]._check_available()\n",
    "print(first_game.players[2].show_available())"
   ]
  },
  {
   "cell_type": "code",
   "execution_count": 20,
   "id": "8d43ddec",
   "metadata": {},
   "outputs": [
    {
     "name": "stdout",
     "output_type": "stream",
     "text": [
      "You current available cards are:\n",
      "Club 7 is available, use card code 41 if you want to use.\n",
      "\n"
     ]
    }
   ],
   "source": [
    "first_game.players[3]._check_available()\n",
    "print(first_game.players[3].show_available())"
   ]
  },
  {
   "cell_type": "code",
   "execution_count": 21,
   "id": "65dab1b2",
   "metadata": {
    "scrolled": true
   },
   "outputs": [
    {
     "name": "stdout",
     "output_type": "stream",
     "text": [
      "\n",
      "Current onboard cards are:\n",
      "************************************************\n",
      "************************************************\n",
      "\n",
      "It is Doris's turn.\n",
      "\n",
      "You currently have:\n",
      "Diamond 4, 5, 8, 11, 13.\n",
      "Spade 3, 7, 10.\n",
      "Club 1, 2, 5, 12, 13.\n",
      "\n",
      "You have suppressed: \n",
      "\n",
      "You current available cards are:\n",
      "Spade 7 is available, use card code 50 if you want to use.\n",
      "\n",
      "Please input the card code you want to issue: 50\n",
      "\n",
      "Current onboard cards are:\n",
      "************************************************\n",
      "Spade 7.\n",
      "************************************************\n",
      "\n",
      "It is Richard's turn.\n",
      "\n",
      "You currently have:\n",
      "Heart 2, 3, 4, 6, 7, 8.\n",
      "Diamond 2, 7, 10.\n",
      "Spade 9.\n",
      "Club 9, 10, 11.\n",
      "\n",
      "You have suppressed: \n",
      "\n",
      "You current available cards are:\n",
      "Heart 7 is available, use card code 27 if you want to use.\n",
      "Diamond 7 is available, use card code 20 if you want to use.\n",
      "\n",
      "Please input the card code you want to issue: 20\n",
      "\n",
      "Current onboard cards are:\n",
      "************************************************\n",
      "Diamond 7.\n",
      "Spade 7.\n",
      "************************************************\n",
      "\n",
      "It is John's turn.\n",
      "\n",
      "You currently have:\n",
      "Heart 5, 10, 11, 12.\n",
      "Diamond 1, 6, 9.\n",
      "Spade 1, 2, 4, 5, 6.\n",
      "Club 4.\n",
      "\n",
      "You have suppressed: \n",
      "\n",
      "You current available cards are:\n",
      "Diamond 6 is available, use card code 39 if you want to use.\n",
      "Spade 6 is available, use card code 24 if you want to use.\n",
      "\n",
      "Please input the card code you want to issue: 24\n",
      "\n",
      "Current onboard cards are:\n",
      "************************************************\n",
      "Diamond 7.\n",
      "Spade 6, 7.\n",
      "************************************************\n",
      "\n",
      "It is Louis's turn.\n",
      "\n",
      "You currently have:\n",
      "Heart 1, 9, 13.\n",
      "Diamond 3, 12.\n",
      "Spade 8, 11, 12, 13.\n",
      "Club 3, 6, 7, 8.\n",
      "\n",
      "You have suppressed: \n",
      "\n",
      "You current available cards are:\n",
      "Spade 8 is available, use card code 3 if you want to use.\n",
      "Club 7 is available, use card code 41 if you want to use.\n",
      "\n",
      "Please input the card code you want to issue: 3\n",
      "\n",
      "Current onboard cards are:\n",
      "************************************************\n",
      "Diamond 7.\n",
      "Spade 6, 7, 8.\n",
      "************************************************\n",
      "\n",
      "It is Doris's turn.\n",
      "\n",
      "You currently have:\n",
      "Diamond 4, 5, 8, 11, 13.\n",
      "Spade 3, 10.\n",
      "Club 1, 2, 5, 12, 13.\n",
      "\n",
      "You have suppressed: \n",
      "\n",
      "You current available cards are:\n",
      "Diamond 8 is available, use card code 17 if you want to use.\n",
      "\n"
     ]
    },
    {
     "ename": "KeyboardInterrupt",
     "evalue": "Interrupted by user",
     "output_type": "error",
     "traceback": [
      "\u001b[1;31m---------------------------------------------------------------------------\u001b[0m",
      "\u001b[1;31mKeyboardInterrupt\u001b[0m                         Traceback (most recent call last)",
      "Input \u001b[1;32mIn [21]\u001b[0m, in \u001b[0;36m<cell line: 1>\u001b[1;34m()\u001b[0m\n\u001b[1;32m----> 1\u001b[0m \u001b[43mfirst_game\u001b[49m\u001b[38;5;241;43m.\u001b[39;49m\u001b[43mon_going\u001b[49m\u001b[43m(\u001b[49m\u001b[43m)\u001b[49m\n",
      "Input \u001b[1;32mIn [6]\u001b[0m, in \u001b[0;36mGame.on_going\u001b[1;34m(self)\u001b[0m\n\u001b[0;32m     99\u001b[0m round_count \u001b[38;5;241m=\u001b[39m \u001b[38;5;241m0\u001b[39m\n\u001b[0;32m    100\u001b[0m \u001b[38;5;28;01mwhile\u001b[39;00m round_count \u001b[38;5;241m<\u001b[39m \u001b[38;5;241m13\u001b[39m:\n\u001b[1;32m--> 101\u001b[0m     \u001b[38;5;28;43mself\u001b[39;49m\u001b[38;5;241;43m.\u001b[39;49m\u001b[43mone_round\u001b[49m\u001b[43m(\u001b[49m\u001b[43mround_count\u001b[49m\u001b[43m,\u001b[49m\u001b[43m \u001b[49m\u001b[38;5;28;43mself\u001b[39;49m\u001b[38;5;241;43m.\u001b[39;49m\u001b[43mgame_id\u001b[49m\u001b[43m)\u001b[49m\n\u001b[0;32m    102\u001b[0m     round_count \u001b[38;5;241m+\u001b[39m\u001b[38;5;241m=\u001b[39m \u001b[38;5;241m1\u001b[39m\n\u001b[0;32m    103\u001b[0m \u001b[38;5;66;03m# After all rounds, check the result\u001b[39;00m\n",
      "Input \u001b[1;32mIn [6]\u001b[0m, in \u001b[0;36mGame.one_round\u001b[1;34m(self, round_count, game_id, show)\u001b[0m\n\u001b[0;32m     92\u001b[0m \u001b[38;5;28mprint\u001b[39m(\u001b[38;5;124mf\u001b[39m\u001b[38;5;124m\"\u001b[39m\u001b[38;5;130;01m\\n\u001b[39;00m\u001b[38;5;124mIt is \u001b[39m\u001b[38;5;132;01m{\u001b[39;00mplayer\u001b[38;5;241m.\u001b[39mname\u001b[38;5;132;01m}\u001b[39;00m\u001b[38;5;124m'\u001b[39m\u001b[38;5;124ms turn.\u001b[39m\u001b[38;5;130;01m\\n\u001b[39;00m\u001b[38;5;124m\"\u001b[39m)\n\u001b[0;32m     93\u001b[0m \u001b[38;5;28;01mwhile\u001b[39;00m \u001b[38;5;28;01mTrue\u001b[39;00m:\n\u001b[1;32m---> 94\u001b[0m     action_result \u001b[38;5;241m=\u001b[39m \u001b[43mplayer\u001b[49m\u001b[38;5;241;43m.\u001b[39;49m\u001b[43maction\u001b[49m\u001b[43m(\u001b[49m\u001b[43mround_count\u001b[49m\u001b[43m,\u001b[49m\u001b[43m \u001b[49m\u001b[43mgame_id\u001b[49m\u001b[43m)\u001b[49m\n\u001b[0;32m     95\u001b[0m     \u001b[38;5;28;01mif\u001b[39;00m action_result:\n\u001b[0;32m     96\u001b[0m         \u001b[38;5;28;01mbreak\u001b[39;00m\n",
      "Input \u001b[1;32mIn [5]\u001b[0m, in \u001b[0;36mPlayer.action\u001b[1;34m(self, round_count, game_id)\u001b[0m\n\u001b[0;32m    104\u001b[0m send_text \u001b[38;5;241m=\u001b[39m \u001b[38;5;28mself\u001b[39m\u001b[38;5;241m.\u001b[39mshow_hand_cards() \u001b[38;5;241m+\u001b[39m \u001b[38;5;124m'\u001b[39m\u001b[38;5;130;01m\\n\u001b[39;00m\u001b[38;5;124m'\u001b[39m \u001b[38;5;241m+\u001b[39m \u001b[38;5;28mself\u001b[39m\u001b[38;5;241m.\u001b[39mshow_available()\n\u001b[0;32m    105\u001b[0m \u001b[38;5;28mself\u001b[39m\u001b[38;5;241m.\u001b[39msend(send_text, round_count, game_id)\n\u001b[1;32m--> 106\u001b[0m card_code \u001b[38;5;241m=\u001b[39m \u001b[38;5;28;43minput\u001b[39;49m\u001b[43m(\u001b[49m\u001b[38;5;124;43m\"\u001b[39;49m\u001b[38;5;124;43mPlease input the card code you want to issue: \u001b[39;49m\u001b[38;5;124;43m\"\u001b[39;49m\u001b[43m)\u001b[49m\n\u001b[0;32m    107\u001b[0m \u001b[38;5;28;01mtry\u001b[39;00m:\n\u001b[0;32m    108\u001b[0m     card_code \u001b[38;5;241m=\u001b[39m \u001b[38;5;28mint\u001b[39m(card_code)\n",
      "File \u001b[1;32m~\\Anaconda3\\envs\\mywork\\lib\\site-packages\\ipykernel\\kernelbase.py:1075\u001b[0m, in \u001b[0;36mKernel.raw_input\u001b[1;34m(self, prompt)\u001b[0m\n\u001b[0;32m   1071\u001b[0m \u001b[38;5;28;01mif\u001b[39;00m \u001b[38;5;129;01mnot\u001b[39;00m \u001b[38;5;28mself\u001b[39m\u001b[38;5;241m.\u001b[39m_allow_stdin:\n\u001b[0;32m   1072\u001b[0m     \u001b[38;5;28;01mraise\u001b[39;00m StdinNotImplementedError(\n\u001b[0;32m   1073\u001b[0m         \u001b[38;5;124m\"\u001b[39m\u001b[38;5;124mraw_input was called, but this frontend does not support input requests.\u001b[39m\u001b[38;5;124m\"\u001b[39m\n\u001b[0;32m   1074\u001b[0m     )\n\u001b[1;32m-> 1075\u001b[0m \u001b[38;5;28;01mreturn\u001b[39;00m \u001b[38;5;28;43mself\u001b[39;49m\u001b[38;5;241;43m.\u001b[39;49m\u001b[43m_input_request\u001b[49m\u001b[43m(\u001b[49m\n\u001b[0;32m   1076\u001b[0m \u001b[43m    \u001b[49m\u001b[38;5;28;43mstr\u001b[39;49m\u001b[43m(\u001b[49m\u001b[43mprompt\u001b[49m\u001b[43m)\u001b[49m\u001b[43m,\u001b[49m\n\u001b[0;32m   1077\u001b[0m \u001b[43m    \u001b[49m\u001b[38;5;28;43mself\u001b[39;49m\u001b[38;5;241;43m.\u001b[39;49m\u001b[43m_parent_ident\u001b[49m\u001b[43m[\u001b[49m\u001b[38;5;124;43m\"\u001b[39;49m\u001b[38;5;124;43mshell\u001b[39;49m\u001b[38;5;124;43m\"\u001b[39;49m\u001b[43m]\u001b[49m\u001b[43m,\u001b[49m\n\u001b[0;32m   1078\u001b[0m \u001b[43m    \u001b[49m\u001b[38;5;28;43mself\u001b[39;49m\u001b[38;5;241;43m.\u001b[39;49m\u001b[43mget_parent\u001b[49m\u001b[43m(\u001b[49m\u001b[38;5;124;43m\"\u001b[39;49m\u001b[38;5;124;43mshell\u001b[39;49m\u001b[38;5;124;43m\"\u001b[39;49m\u001b[43m)\u001b[49m\u001b[43m,\u001b[49m\n\u001b[0;32m   1079\u001b[0m \u001b[43m    \u001b[49m\u001b[43mpassword\u001b[49m\u001b[38;5;241;43m=\u001b[39;49m\u001b[38;5;28;43;01mFalse\u001b[39;49;00m\u001b[43m,\u001b[49m\n\u001b[0;32m   1080\u001b[0m \u001b[43m\u001b[49m\u001b[43m)\u001b[49m\n",
      "File \u001b[1;32m~\\Anaconda3\\envs\\mywork\\lib\\site-packages\\ipykernel\\kernelbase.py:1120\u001b[0m, in \u001b[0;36mKernel._input_request\u001b[1;34m(self, prompt, ident, parent, password)\u001b[0m\n\u001b[0;32m   1117\u001b[0m             \u001b[38;5;28;01mbreak\u001b[39;00m\n\u001b[0;32m   1118\u001b[0m \u001b[38;5;28;01mexcept\u001b[39;00m \u001b[38;5;167;01mKeyboardInterrupt\u001b[39;00m:\n\u001b[0;32m   1119\u001b[0m     \u001b[38;5;66;03m# re-raise KeyboardInterrupt, to truncate traceback\u001b[39;00m\n\u001b[1;32m-> 1120\u001b[0m     \u001b[38;5;28;01mraise\u001b[39;00m \u001b[38;5;167;01mKeyboardInterrupt\u001b[39;00m(\u001b[38;5;124m\"\u001b[39m\u001b[38;5;124mInterrupted by user\u001b[39m\u001b[38;5;124m\"\u001b[39m) \u001b[38;5;28;01mfrom\u001b[39;00m \u001b[38;5;28mNone\u001b[39m\n\u001b[0;32m   1121\u001b[0m \u001b[38;5;28;01mexcept\u001b[39;00m \u001b[38;5;167;01mException\u001b[39;00m:\n\u001b[0;32m   1122\u001b[0m     \u001b[38;5;28mself\u001b[39m\u001b[38;5;241m.\u001b[39mlog\u001b[38;5;241m.\u001b[39mwarning(\u001b[38;5;124m\"\u001b[39m\u001b[38;5;124mInvalid Message:\u001b[39m\u001b[38;5;124m\"\u001b[39m, exc_info\u001b[38;5;241m=\u001b[39m\u001b[38;5;28;01mTrue\u001b[39;00m)\n",
      "\u001b[1;31mKeyboardInterrupt\u001b[0m: Interrupted by user"
     ]
    }
   ],
   "source": [
    "first_game.on_going()"
   ]
  },
  {
   "cell_type": "code",
   "execution_count": 41,
   "id": "c28cd1ce",
   "metadata": {
    "scrolled": true
   },
   "outputs": [
    {
     "name": "stdout",
     "output_type": "stream",
     "text": [
      "\n",
      "Current onboard cards are:\n",
      "************************************************\n",
      "************************************************\n",
      "\n",
      "It is Donna's turn.\n",
      "\n",
      "You currently have:\n",
      "Heart 4, 12, 13.\n",
      "Diamond 2, 7.\n",
      "Spade 3, 4, 7, 10.\n",
      "Club 3, 6, 10, 13.\n",
      "\n",
      "You have suppressed: \n",
      "\n",
      "You current available cards are:\n",
      "Diamond 7 is available, use card code 40 if you want to use.\n",
      "Spade 7 is available, use card code 24 if you want to use.\n",
      "\n",
      "Please input the card code you want to issue: 40\n",
      "\n",
      "Current onboard cards are:\n",
      "************************************************\n",
      "Diamond 7.\n",
      "************************************************\n",
      "\n",
      "It is Wilbert's turn.\n",
      "\n",
      "You currently have:\n",
      "Heart 1, 7, 10.\n",
      "Diamond 1, 3, 13.\n",
      "Spade 1, 6, 12.\n",
      "Club 1, 2, 8, 11.\n",
      "\n",
      "You have suppressed: \n",
      "\n",
      "You current available cards are:\n",
      "Heart 7 is available, use card code 50 if you want to use.\n",
      "\n",
      "Please input the card code you want to issue: 50\n",
      "\n",
      "Current onboard cards are:\n",
      "************************************************\n",
      "Heart 7.\n",
      "Diamond 7.\n",
      "************************************************\n",
      "\n",
      "It is Felicia's turn.\n",
      "\n",
      "You currently have:\n",
      "Heart 5, 6, 9.\n",
      "Diamond 5, 8, 10, 11, 12.\n",
      "Spade 5, 13.\n",
      "Club 4, 7, 9.\n",
      "\n",
      "You have suppressed: \n",
      "\n",
      "You current available cards are:\n",
      "Heart 6 is available, use card code 51 if you want to use.\n",
      "Diamond 8 is available, use card code 12 if you want to use.\n",
      "Club 7 is available, use card code 20 if you want to use.\n",
      "\n",
      "Please input the card code you want to issue: 12\n",
      "\n",
      "Current onboard cards are:\n",
      "************************************************\n",
      "Heart 7.\n",
      "Diamond 7, 8.\n",
      "************************************************\n",
      "\n",
      "It is Dorothy's turn.\n",
      "\n",
      "You currently have:\n",
      "Heart 2, 3, 8, 11.\n",
      "Diamond 4, 6, 9.\n",
      "Spade 2, 8, 9, 11.\n",
      "Club 5, 12.\n",
      "\n",
      "You have suppressed: \n",
      "\n",
      "You current available cards are:\n",
      "Heart 8 is available, use card code 49 if you want to use.\n",
      "Diamond 6 is available, use card code 34 if you want to use.\n",
      "Diamond 9 is available, use card code 46 if you want to use.\n",
      "\n",
      "Please input the card code you want to issue: 34\n"
     ]
    }
   ],
   "source": [
    "first_game.one_round(0, first_game.game_id)"
   ]
  },
  {
   "cell_type": "code",
   "execution_count": 42,
   "id": "15a9c899",
   "metadata": {},
   "outputs": [
    {
     "name": "stdout",
     "output_type": "stream",
     "text": [
      "\n",
      "Current onboard cards are:\n",
      "************************************************\n",
      "Heart 7.\n",
      "Diamond 6, 7, 8.\n",
      "************************************************\n",
      "\n",
      "It is Donna's turn.\n",
      "\n",
      "You currently have:\n",
      "Heart 4, 12, 13.\n",
      "Diamond 2.\n",
      "Spade 3, 4, 7, 10.\n",
      "Club 3, 6, 10, 13.\n",
      "\n",
      "You have suppressed: \n",
      "\n",
      "You current available cards are:\n",
      "Spade 7 is available, use card code 24 if you want to use.\n",
      "\n",
      "Please input the card code you want to issue: 24\n",
      "\n",
      "Current onboard cards are:\n",
      "************************************************\n",
      "Heart 7.\n",
      "Diamond 6, 7, 8.\n",
      "Spade 7.\n",
      "************************************************\n",
      "\n",
      "It is Wilbert's turn.\n",
      "\n",
      "You currently have:\n",
      "Heart 1, 10.\n",
      "Diamond 1, 3, 13.\n",
      "Spade 1, 6, 12.\n",
      "Club 1, 2, 8, 11.\n",
      "\n",
      "You have suppressed: \n",
      "\n",
      "You current available cards are:\n",
      "Spade 6 is available, use card code 25 if you want to use.\n",
      "\n",
      "Please input the card code you want to issue: 25\n",
      "\n",
      "Current onboard cards are:\n",
      "************************************************\n",
      "Heart 7.\n",
      "Diamond 6, 7, 8.\n",
      "Spade 6, 7.\n",
      "************************************************\n",
      "\n",
      "It is Felicia's turn.\n",
      "\n",
      "You currently have:\n",
      "Heart 5, 6, 9.\n",
      "Diamond 5, 10, 11, 12.\n",
      "Spade 5, 13.\n",
      "Club 4, 7, 9.\n",
      "\n",
      "You have suppressed: \n",
      "\n",
      "You current available cards are:\n",
      "Heart 6 is available, use card code 51 if you want to use.\n",
      "Diamond 5 is available, use card code 5 if you want to use.\n",
      "Spade 5 is available, use card code 30 if you want to use.\n",
      "Club 7 is available, use card code 20 if you want to use.\n",
      "\n",
      "Please input the card code you want to issue: 30\n",
      "\n",
      "Current onboard cards are:\n",
      "************************************************\n",
      "Heart 7.\n",
      "Diamond 6, 7, 8.\n",
      "Spade 5, 6, 7.\n",
      "************************************************\n",
      "\n",
      "It is Dorothy's turn.\n",
      "\n",
      "You currently have:\n",
      "Heart 2, 3, 8, 11.\n",
      "Diamond 4, 9.\n",
      "Spade 2, 8, 9, 11.\n",
      "Club 5, 12.\n",
      "\n",
      "You have suppressed: \n",
      "\n",
      "You current available cards are:\n",
      "Heart 8 is available, use card code 49 if you want to use.\n",
      "Diamond 9 is available, use card code 46 if you want to use.\n",
      "Spade 8 is available, use card code 32 if you want to use.\n",
      "\n",
      "Please input the card code you want to issue: 46\n"
     ]
    }
   ],
   "source": [
    "first_game.one_round(1, first_game.game_id)"
   ]
  },
  {
   "cell_type": "code",
   "execution_count": 43,
   "id": "907149d7",
   "metadata": {},
   "outputs": [
    {
     "name": "stdout",
     "output_type": "stream",
     "text": [
      "\n",
      "Current onboard cards are:\n",
      "************************************************\n",
      "Heart 7.\n",
      "Diamond 6, 7, 8, 9.\n",
      "Spade 5, 6, 7.\n",
      "************************************************\n",
      "\n",
      "It is Donna's turn.\n",
      "\n",
      "You currently have:\n",
      "Heart 4, 12, 13.\n",
      "Diamond 2.\n",
      "Spade 3, 4, 10.\n",
      "Club 3, 6, 10, 13.\n",
      "\n",
      "You have suppressed: \n",
      "\n",
      "You current available cards are:\n",
      "Spade 4 is available, use card code 19 if you want to use.\n",
      "\n",
      "Please input the card code you want to issue: 19\n",
      "\n",
      "Current onboard cards are:\n",
      "************************************************\n",
      "Heart 7.\n",
      "Diamond 6, 7, 8, 9.\n",
      "Spade 4, 5, 6, 7.\n",
      "************************************************\n",
      "\n",
      "It is Wilbert's turn.\n",
      "\n",
      "You currently have:\n",
      "Heart 1, 10.\n",
      "Diamond 1, 3, 13.\n",
      "Spade 1, 12.\n",
      "Club 1, 2, 8, 11.\n",
      "\n",
      "You have suppressed: \n",
      "\n",
      "You have to suppress: \n",
      "Heart 1 is in your hand, use card code 39 if you want to suppress. \n",
      "Heart 10 is in your hand, use card code 1 if you want to suppress. \n",
      "Diamond 1 is in your hand, use card code 33 if you want to suppress. \n",
      "Diamond 3 is in your hand, use card code 31 if you want to suppress. \n",
      "Diamond 13 is in your hand, use card code 23 if you want to suppress. \n",
      "Spade 1 is in your hand, use card code 7 if you want to suppress. \n",
      "Spade 12 is in your hand, use card code 41 if you want to suppress. \n",
      "Club 1 is in your hand, use card code 17 if you want to suppress. \n",
      "Club 2 is in your hand, use card code 29 if you want to suppress. \n",
      "Club 8 is in your hand, use card code 3 if you want to suppress. \n",
      "Club 11 is in your hand, use card code 52 if you want to suppress. \n",
      "\n",
      "Please input the card code you want to suppress: 1\n",
      "\n",
      "Current onboard cards are:\n",
      "************************************************\n",
      "Heart 7.\n",
      "Diamond 6, 7, 8, 9.\n",
      "Spade 4, 5, 6, 7.\n",
      "************************************************\n",
      "\n",
      "It is Felicia's turn.\n",
      "\n",
      "You currently have:\n",
      "Heart 5, 6, 9.\n",
      "Diamond 5, 10, 11, 12.\n",
      "Spade 13.\n",
      "Club 4, 7, 9.\n",
      "\n",
      "You have suppressed: \n",
      "\n",
      "You current available cards are:\n",
      "Heart 6 is available, use card code 51 if you want to use.\n",
      "Diamond 5 is available, use card code 5 if you want to use.\n",
      "Diamond 10 is available, use card code 43 if you want to use.\n",
      "Club 7 is available, use card code 20 if you want to use.\n",
      "\n",
      "Please input the card code you want to issue: 51\n",
      "\n",
      "Current onboard cards are:\n",
      "************************************************\n",
      "Heart 6, 7.\n",
      "Diamond 6, 7, 8, 9.\n",
      "Spade 4, 5, 6, 7.\n",
      "************************************************\n",
      "\n",
      "It is Dorothy's turn.\n",
      "\n",
      "You currently have:\n",
      "Heart 2, 3, 8, 11.\n",
      "Diamond 4.\n",
      "Spade 2, 8, 9, 11.\n",
      "Club 5, 12.\n",
      "\n",
      "You have suppressed: \n",
      "\n",
      "You current available cards are:\n",
      "Heart 8 is available, use card code 49 if you want to use.\n",
      "Spade 8 is available, use card code 32 if you want to use.\n",
      "\n",
      "Please input the card code you want to issue: 32\n"
     ]
    }
   ],
   "source": [
    "first_game.one_round(2, first_game.game_id)"
   ]
  },
  {
   "cell_type": "code",
   "execution_count": 45,
   "id": "c023b3b0",
   "metadata": {},
   "outputs": [
    {
     "name": "stdout",
     "output_type": "stream",
     "text": [
      "player 3 suppressed This card is Heart 10. The uid of this card is 10.\n"
     ]
    }
   ],
   "source": [
    "for i in range(4):\n",
    "    for card in first_game.players[i].suppressed.values():\n",
    "        print(f\"player {card.player_id} suppressed\", card)"
   ]
  },
  {
   "cell_type": "code",
   "execution_count": 55,
   "id": "84f746d8",
   "metadata": {},
   "outputs": [
    {
     "data": {
      "text/plain": [
       "{16: 34,\n",
       " 1: 32,\n",
       " 11: 39,\n",
       " 36: 43,\n",
       " 42: 41,\n",
       " 37: 35,\n",
       " 35: 44,\n",
       " 46: 28,\n",
       " 39: 33,\n",
       " 22: 42,\n",
       " 6: 50,\n",
       " 13: 26,\n",
       " 38: 1}"
      ]
     },
     "execution_count": 55,
     "metadata": {},
     "output_type": "execute_result"
    }
   ],
   "source": [
    "first_game.players[0].decoder"
   ]
  },
  {
   "cell_type": "code",
   "execution_count": 30,
   "id": "5d5079cb",
   "metadata": {},
   "outputs": [
    {
     "name": "stdout",
     "output_type": "stream",
     "text": [
      "This card is Spade 7. The uid of this card is 33.\n"
     ]
    }
   ],
   "source": [
    "print(first_game.card_map[33])"
   ]
  },
  {
   "cell_type": "code",
   "execution_count": 17,
   "id": "2beca865",
   "metadata": {},
   "outputs": [],
   "source": [
    "first_game.card_map[33].previous"
   ]
  },
  {
   "cell_type": "code",
   "execution_count": 20,
   "id": "5a155b2f",
   "metadata": {},
   "outputs": [
    {
     "data": {
      "text/plain": [
       "'Spade 6'"
      ]
     },
     "execution_count": 20,
     "metadata": {},
     "output_type": "execute_result"
    }
   ],
   "source": [
    "first_game.card_map[32].name"
   ]
  },
  {
   "cell_type": "code",
   "execution_count": 19,
   "id": "2dab5343",
   "metadata": {},
   "outputs": [
    {
     "data": {
      "text/plain": [
       "'Spade 7'"
      ]
     },
     "execution_count": 19,
     "metadata": {},
     "output_type": "execute_result"
    }
   ],
   "source": [
    "first_game.card_map[32].previous.name"
   ]
  },
  {
   "cell_type": "code",
   "execution_count": 21,
   "id": "abdc8b65",
   "metadata": {},
   "outputs": [
    {
     "data": {
      "text/plain": [
       "'Spade 8'"
      ]
     },
     "execution_count": 21,
     "metadata": {},
     "output_type": "execute_result"
    }
   ],
   "source": [
    "first_game.card_map[34].name"
   ]
  },
  {
   "cell_type": "code",
   "execution_count": 22,
   "id": "1811d940",
   "metadata": {},
   "outputs": [
    {
     "data": {
      "text/plain": [
       "'Spade 7'"
      ]
     },
     "execution_count": 22,
     "metadata": {},
     "output_type": "execute_result"
    }
   ],
   "source": [
    "first_game.card_map[34].previous.name"
   ]
  },
  {
   "cell_type": "code",
   "execution_count": 18,
   "id": "01bd8164",
   "metadata": {},
   "outputs": [
    {
     "ename": "CardNumberError",
     "evalue": "The numer 60 is larger than the allowed card number range: 1~52.",
     "output_type": "error",
     "traceback": [
      "\u001b[1;31m---------------------------------------------------------------------------\u001b[0m",
      "\u001b[1;31mCardNumberError\u001b[0m                           Traceback (most recent call last)",
      "Input \u001b[1;32mIn [18]\u001b[0m, in \u001b[0;36m<cell line: 2>\u001b[1;34m()\u001b[0m\n\u001b[0;32m      1\u001b[0m \u001b[38;5;66;03m# test\u001b[39;00m\n\u001b[1;32m----> 2\u001b[0m test_card \u001b[38;5;241m=\u001b[39m \u001b[43mCard\u001b[49m\u001b[43m(\u001b[49m\u001b[38;5;241;43m60\u001b[39;49m\u001b[43m)\u001b[49m\n",
      "Input \u001b[1;32mIn [17]\u001b[0m, in \u001b[0;36mCard.__init__\u001b[1;34m(self, number)\u001b[0m\n\u001b[0;32m      8\u001b[0m \u001b[38;5;28;01mdef\u001b[39;00m \u001b[38;5;21m__init__\u001b[39m(\u001b[38;5;28mself\u001b[39m, number):\n\u001b[0;32m      9\u001b[0m     \u001b[38;5;28;01mif\u001b[39;00m number \u001b[38;5;241m>\u001b[39m \u001b[38;5;241m52\u001b[39m:\n\u001b[1;32m---> 10\u001b[0m         \u001b[38;5;28;01mraise\u001b[39;00m CardNumberError(\u001b[38;5;124m'\u001b[39m\u001b[38;5;124mlarger\u001b[39m\u001b[38;5;124m'\u001b[39m, number)\n\u001b[0;32m     11\u001b[0m     \u001b[38;5;28;01melif\u001b[39;00m number \u001b[38;5;241m<\u001b[39m \u001b[38;5;241m1\u001b[39m:\n\u001b[0;32m     12\u001b[0m         \u001b[38;5;28;01mraise\u001b[39;00m CardNumberError(\u001b[38;5;124m'\u001b[39m\u001b[38;5;124msmaller\u001b[39m\u001b[38;5;124m'\u001b[39m, number)\n",
      "\u001b[1;31mCardNumberError\u001b[0m: The numer 60 is larger than the allowed card number range: 1~52."
     ]
    }
   ],
   "source": [
    "# test\n",
    "test_card = Card(60)"
   ]
  },
  {
   "cell_type": "code",
   "execution_count": 8,
   "id": "78d24b61",
   "metadata": {},
   "outputs": [
    {
     "data": {
      "text/plain": [
       "<__main__.Card at 0x238477ad430>"
      ]
     },
     "execution_count": 8,
     "metadata": {},
     "output_type": "execute_result"
    }
   ],
   "source": [
    "test_card"
   ]
  },
  {
   "cell_type": "code",
   "execution_count": 10,
   "id": "35bfbf9d",
   "metadata": {},
   "outputs": [
    {
     "data": {
      "text/plain": [
       "'Diamond 7'"
      ]
     },
     "execution_count": 10,
     "metadata": {},
     "output_type": "execute_result"
    }
   ],
   "source": [
    "test_card.name()"
   ]
  },
  {
   "cell_type": "code",
   "execution_count": 12,
   "id": "75f2f3a9",
   "metadata": {},
   "outputs": [
    {
     "name": "stdout",
     "output_type": "stream",
     "text": [
      "This card is Diamond 7. The uid of this card is 20.\n"
     ]
    }
   ],
   "source": [
    "print(test_card)"
   ]
  },
  {
   "cell_type": "code",
   "execution_count": null,
   "id": "0f903bb8",
   "metadata": {},
   "outputs": [],
   "source": []
  }
 ],
 "metadata": {
  "kernelspec": {
   "display_name": "Python 3 (ipykernel)",
   "language": "python",
   "name": "python3"
  },
  "language_info": {
   "codemirror_mode": {
    "name": "ipython",
    "version": 3
   },
   "file_extension": ".py",
   "mimetype": "text/x-python",
   "name": "python",
   "nbconvert_exporter": "python",
   "pygments_lexer": "ipython3",
   "version": "3.9.12"
  }
 },
 "nbformat": 4,
 "nbformat_minor": 5
}
