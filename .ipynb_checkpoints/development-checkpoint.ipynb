{
 "cells": [
  {
   "cell_type": "markdown",
   "id": "681fc347",
   "metadata": {},
   "source": [
    "## Card Game Suppress Seven"
   ]
  },
  {
   "cell_type": "markdown",
   "id": "63510638",
   "metadata": {},
   "source": [
    "### Rules\n",
    "    - Use the 52 cards in 4 colors: Heart, Diamond, Spade and Club.\n",
    "    - Four players, each one gets 13 cards in the beginning.\n",
    "    - The player who has Spade 7 on hand goes first.\n",
    "    - The players must use the cards which have the same color and consecutive number to the cards on the board.\n",
    "        - For example, if there is ♠7 on board, the next player must use ♠6, ♠8 or ♥7,♦7,♣7.\n",
    "    - If a player has not card can be used, he/she needs to suppress one card. This card should not be seen by the other players until the end of this game.\n",
    "    - The total points of the suppressed cards would be calculated at the end of the game, the one has the least points win."
   ]
  },
  {
   "cell_type": "code",
   "execution_count": 14,
   "id": "9a285103",
   "metadata": {},
   "outputs": [],
   "source": [
    "class CustomError(Exception):\n",
    "    \"\"\"Base class for exceptions in this module.\"\"\"\n",
    "    pass"
   ]
  },
  {
   "cell_type": "code",
   "execution_count": 15,
   "id": "52f9d1c9",
   "metadata": {},
   "outputs": [],
   "source": [
    "class CardNumberError(CustomError):\n",
    "    def __init__(self, message, number):\n",
    "        self.message = message\n",
    "        self.number = number\n",
    "    def __str__(self):\n",
    "        return f\"The numer {self.number} is {self.message} than the allowed card number range: 1~52.\""
   ]
  },
  {
   "cell_type": "code",
   "execution_count": 17,
   "id": "e255e2c1",
   "metadata": {},
   "outputs": [],
   "source": [
    "# It is the card class, there are 52 cards in total, 13 cards for each suit. \n",
    "# So that we use the id between 1 and 52 to initialize the card.\n",
    "class Card:\n",
    "    suit_map = {0: 'Heart',\n",
    "                1: 'Diamond',\n",
    "                2: 'Spade',\n",
    "                3: 'Club'}\n",
    "    def __init__(self, number):\n",
    "        if number > 52:\n",
    "            raise CardNumberError('larger', number)\n",
    "        elif number < 1:\n",
    "            raise CardNumberError('smaller', number)\n",
    "        else:\n",
    "            self.number = (number-1)%13+1     # it is the number of this card, no matter which suit, 1-13\n",
    "            self.suit = Card.suit_map[(number-1)//13] # it is the suit, one of the four\n",
    "            self.card_id = number              # it is the id of the card, each card has an unique id, 1-52\n",
    "            self.name = self.name()\n",
    "    def __str__(self):\n",
    "        return f\"This card is {self.suit} {self.number}. The uid of this card is {self.card_id}.\"\n",
    "    \n",
    "    def name(self):\n",
    "        return f\"{self.suit} {self.number}\""
   ]
  },
  {
   "cell_type": "code",
   "execution_count": 18,
   "id": "01bd8164",
   "metadata": {},
   "outputs": [
    {
     "ename": "CardNumberError",
     "evalue": "The numer 60 is larger than the allowed card number range: 1~52.",
     "output_type": "error",
     "traceback": [
      "\u001b[1;31m---------------------------------------------------------------------------\u001b[0m",
      "\u001b[1;31mCardNumberError\u001b[0m                           Traceback (most recent call last)",
      "Input \u001b[1;32mIn [18]\u001b[0m, in \u001b[0;36m<cell line: 2>\u001b[1;34m()\u001b[0m\n\u001b[0;32m      1\u001b[0m \u001b[38;5;66;03m# test\u001b[39;00m\n\u001b[1;32m----> 2\u001b[0m test_card \u001b[38;5;241m=\u001b[39m \u001b[43mCard\u001b[49m\u001b[43m(\u001b[49m\u001b[38;5;241;43m60\u001b[39;49m\u001b[43m)\u001b[49m\n",
      "Input \u001b[1;32mIn [17]\u001b[0m, in \u001b[0;36mCard.__init__\u001b[1;34m(self, number)\u001b[0m\n\u001b[0;32m      8\u001b[0m \u001b[38;5;28;01mdef\u001b[39;00m \u001b[38;5;21m__init__\u001b[39m(\u001b[38;5;28mself\u001b[39m, number):\n\u001b[0;32m      9\u001b[0m     \u001b[38;5;28;01mif\u001b[39;00m number \u001b[38;5;241m>\u001b[39m \u001b[38;5;241m52\u001b[39m:\n\u001b[1;32m---> 10\u001b[0m         \u001b[38;5;28;01mraise\u001b[39;00m CardNumberError(\u001b[38;5;124m'\u001b[39m\u001b[38;5;124mlarger\u001b[39m\u001b[38;5;124m'\u001b[39m, number)\n\u001b[0;32m     11\u001b[0m     \u001b[38;5;28;01melif\u001b[39;00m number \u001b[38;5;241m<\u001b[39m \u001b[38;5;241m1\u001b[39m:\n\u001b[0;32m     12\u001b[0m         \u001b[38;5;28;01mraise\u001b[39;00m CardNumberError(\u001b[38;5;124m'\u001b[39m\u001b[38;5;124msmaller\u001b[39m\u001b[38;5;124m'\u001b[39m, number)\n",
      "\u001b[1;31mCardNumberError\u001b[0m: The numer 60 is larger than the allowed card number range: 1~52."
     ]
    }
   ],
   "source": [
    "# test\n",
    "test_card = Card(60)"
   ]
  },
  {
   "cell_type": "code",
   "execution_count": 8,
   "id": "78d24b61",
   "metadata": {},
   "outputs": [
    {
     "data": {
      "text/plain": [
       "<__main__.Card at 0x238477ad430>"
      ]
     },
     "execution_count": 8,
     "metadata": {},
     "output_type": "execute_result"
    }
   ],
   "source": [
    "test_card"
   ]
  },
  {
   "cell_type": "code",
   "execution_count": 10,
   "id": "35bfbf9d",
   "metadata": {},
   "outputs": [
    {
     "data": {
      "text/plain": [
       "'Diamond 7'"
      ]
     },
     "execution_count": 10,
     "metadata": {},
     "output_type": "execute_result"
    }
   ],
   "source": [
    "test_card.name()"
   ]
  },
  {
   "cell_type": "code",
   "execution_count": 12,
   "id": "75f2f3a9",
   "metadata": {},
   "outputs": [
    {
     "name": "stdout",
     "output_type": "stream",
     "text": [
      "This card is Diamond 7. The uid of this card is 20.\n"
     ]
    }
   ],
   "source": [
    "print(test_card)"
   ]
  },
  {
   "cell_type": "code",
   "execution_count": null,
   "id": "0f903bb8",
   "metadata": {},
   "outputs": [],
   "source": []
  }
 ],
 "metadata": {
  "kernelspec": {
   "display_name": "Python 3 (ipykernel)",
   "language": "python",
   "name": "python3"
  },
  "language_info": {
   "codemirror_mode": {
    "name": "ipython",
    "version": 3
   },
   "file_extension": ".py",
   "mimetype": "text/x-python",
   "name": "python",
   "nbconvert_exporter": "python",
   "pygments_lexer": "ipython3",
   "version": "3.9.12"
  }
 },
 "nbformat": 4,
 "nbformat_minor": 5
}
