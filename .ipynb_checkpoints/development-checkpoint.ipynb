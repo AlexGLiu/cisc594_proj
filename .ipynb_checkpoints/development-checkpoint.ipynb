{
 "cells": [
  {
   "cell_type": "markdown",
   "id": "681fc347",
   "metadata": {},
   "source": [
    "## Card Game Suppress Seven"
   ]
  },
  {
   "cell_type": "markdown",
   "id": "63510638",
   "metadata": {},
   "source": [
    "### Rules\n",
    "    - Use the 52 cards in 4 colors: Heart, Diamond, Spade and Club.\n",
    "    - Four players, each one gets 13 cards in the beginning.\n",
    "    - The player who has Spade 7 on hand goes first.\n",
    "    - The players must use the cards which have the same color and consecutive number to the cards on the board.\n",
    "        - For example, if there is ♠7 on board, the next player must use ♠6, ♠8 or ♥7,♦7,♣7.\n",
    "    - If a player has not card can be used, he/she needs to suppress one card. This card should not be seen by the other players until the end of this game.\n",
    "    - The total points of the suppressed cards would be calculated at the end of the game, the one has the least points win."
   ]
  },
  {
   "cell_type": "code",
   "execution_count": 1,
   "id": "d540374c",
   "metadata": {},
   "outputs": [],
   "source": [
    "import numpy as np\n",
    "import names\n",
    "import random\n",
    "from collections import OrderedDict, deque, defaultdict"
   ]
  },
  {
   "cell_type": "code",
   "execution_count": 2,
   "id": "9a285103",
   "metadata": {},
   "outputs": [],
   "source": [
    "class CustomError(Exception):\n",
    "    \"\"\"Base class for exceptions in this module.\"\"\"\n",
    "    pass"
   ]
  },
  {
   "cell_type": "code",
   "execution_count": 7,
   "id": "52f9d1c9",
   "metadata": {},
   "outputs": [],
   "source": [
    "class CardNumberError(CustomError):\n",
    "    def __init__(self, message, number):\n",
    "        self.message = message\n",
    "        self.number = number\n",
    "    def __str__(self):\n",
    "        return f\"The numer {self.number} is {self.message} than the allowed card number range: 1~52.\"\n",
    "class CardNumberDisaster(CustomError):\n",
    "    def __init__(self,card):\n",
    "        self.card = card\n",
    "    def __str__(self):\n",
    "        return f\"The card numer {self.card.name()} is illegal.\""
   ]
  },
  {
   "cell_type": "code",
   "execution_count": 40,
   "id": "e255e2c1",
   "metadata": {},
   "outputs": [],
   "source": [
    "# It is the card class, there are 52 cards in total, 13 cards for each suit. \n",
    "# So that we use the id between 1 and 52 to initialize the card.\n",
    "class Card:\n",
    "    suit_map = {0: 'Heart',\n",
    "                1: 'Diamond',\n",
    "                2: 'Spade',\n",
    "                3: 'Club'}\n",
    "    def __init__(self, number, card_code=None):\n",
    "        if number > 52:\n",
    "            raise CardNumberError('larger', number)\n",
    "        elif number < 1:\n",
    "            raise CardNumberError('smaller', number)\n",
    "        else:\n",
    "            self.number = (number-1)%13+1     # it is the number of this card, no matter which suit, 1-13\n",
    "            self.suit = Card.suit_map[(number-1)//13] # it is the suit, one of the four\n",
    "            self.card_id = number              # it is the id of the card, each card has an unique id, 1-52\n",
    "            self.name = self.name()\n",
    "            self.left = None\n",
    "            self.right = None\n",
    "            self.previous = None\n",
    "            self.available = False\n",
    "            self.card_code = number if card_code is None else card_code\n",
    "    def __str__(self):\n",
    "        return f\"This card is {self.suit} {self.number}. The uid of this card is {self.card_id}.\"\n",
    "    \n",
    "    def name(self):\n",
    "        return f\"{self.suit} {self.number}\""
   ]
  },
  {
   "cell_type": "code",
   "execution_count": 41,
   "id": "d658ce07",
   "metadata": {},
   "outputs": [],
   "source": [
    "class Player:\n",
    "    identity=0    # it will be accumlated for each player\n",
    "    def __init__(self, name=None, email=None):\n",
    "        Player.identity += 1\n",
    "        self.name = name or names.get_first_name()\n",
    "        self.email = email\n",
    "        self.player_id = Player.identity\n",
    "        self.hand_card = None\n",
    "        self.decoder = {} # only the player himself/herself knows the code of his/her own cards\n",
    "    \n",
    "    def get_hand_cards(self, hand_card):\n",
    "        for card in hand_card:\n",
    "            card.player_id = self.player_id\n",
    "            self.decoder[card.card_code] = card.card_id # All the card are represented by card id in the backend\n",
    "        self.hand_card = OrderedDict(sorted([(card.card_id, card) for card in hand_card]))"
   ]
  },
  {
   "cell_type": "code",
   "execution_count": 42,
   "id": "3dabce3c",
   "metadata": {},
   "outputs": [],
   "source": [
    "class Game:\n",
    "    identity=0\n",
    "    def __init__(self, random_seed=123):\n",
    "        Game.identity += 1\n",
    "        self.game_id = Game.identity\n",
    "        self.card_map = OrderedDict()    # all the calculation in the backend uses the id (card or player), \n",
    "        self.player_map = OrderedDict()  # need to use this map to link the id to the object\n",
    "        self.card_pool = []\n",
    "        self.players = deque([])   # Here the deque is being used, because the player with Spade 7 need to start, \n",
    "                                   # NOT based on the order of geting card\n",
    "        pool = list(range(1,53))\n",
    "        random.seed(random_seed)\n",
    "        random.shuffle(pool)\n",
    "        self.encoder = {}          # create the visiable code for each card, it is different from the card id, \n",
    "                                   #since we do not want the other players know which card is suppressed. \n",
    "                                   # It is different in different game.\n",
    "        for i, v in enumerate(pool):\n",
    "            self.encoder[i+1] = v\n",
    "    def get_cards(self):\n",
    "        previous_card = None\n",
    "        \"\"\"\n",
    "        left means the card which number is -1 of current one, right means +1 of current card.\n",
    "        However, for card.number < 7, +1 card is the previous card of current one, means if the previous card is not on the board, \n",
    "        the current one cannot be available. Since the +1 card already stored as the previous card, no need to set the right card.\n",
    "        The same for card > 7, no need to set .left.\n",
    "        \"\"\"\n",
    "        for i in range(1,53):\n",
    "            this_card = Card(i, self.encoder[i])\n",
    "            if this_card.number < 7:             \n",
    "                this_card.left = previous_card    # left means the card which number is one less than the current one\n",
    "                if previous_card is not None:\n",
    "                    previous_card.previous = this_card  # previous card means, if previous one is not on the board, \n",
    "                                                        # this card cannot be used\n",
    "            elif this_card.number > 7:\n",
    "                this_card.previous = previous_card     #7 is the previous for both 6 and 8, here sets 8's.\n",
    "                if previous_card is not None:\n",
    "                    previous_card.right = this_card \n",
    "            elif this_card.number == 7:           # For all suits, 7 is always be available, and it is the previous for both 6 and 8, \n",
    "                                                  # here sets 6's. \n",
    "                this_card.left = previous_card\n",
    "                previous_card.previous = this_card\n",
    "                this_card.available = True      # set 7 to available\n",
    "\n",
    "            else:\n",
    "                raise CardNumberDisaster(this_card)  # not going to happen\n",
    "            if this_card.number == 13:\n",
    "                previous_card = None\n",
    "            else:\n",
    "                previous_card = this_card\n",
    "            self.card_map[this_card.card_id] = this_card\n",
    "        self.card_pool = list(self.card_map.values())   # list of card class objs\n",
    "        random.shuffle(self.card_pool)\n",
    "    \n",
    "    def prepare(self):\n",
    "        for i in range(4):     # make sure only four players\n",
    "            this_name = input(\"Please input your name: \")\n",
    "            this_name = None if this_name == '' else this_name\n",
    "            this_email = input(\"Please input your email: \")\n",
    "            this_email = None if this_email == '' else this_email\n",
    "            this_player = Player(this_name, this_email)\n",
    "            print(f\"Welcome {this_player.name}, have fun!\")\n",
    "            this_player.get_hand_cards(self.card_pool[i*13:(i+1)*13])\n",
    "            self.player_map[this_player.player_id] = this_player\n",
    "            self.players.append(this_player)  # Here the players are added to the deque one by one\n",
    "            \n",
    "        init_player = self.player_map[self.card_map[33].player_id]  # The one has Spade 7 need to be the first player\n",
    "        first_player_index = self.players.index(init_player)\n",
    "        # Here the new order is rotated, the same order as assigning cards, but the first player has the Spade 7\n",
    "        self.players.rotate(-1*first_player_index)"
   ]
  },
  {
   "cell_type": "code",
   "execution_count": 56,
   "id": "f8aa77a4",
   "metadata": {},
   "outputs": [],
   "source": [
    "first_game = Game()"
   ]
  },
  {
   "cell_type": "code",
   "execution_count": 57,
   "id": "c38915eb",
   "metadata": {},
   "outputs": [],
   "source": [
    "first_game.get_cards()"
   ]
  },
  {
   "cell_type": "code",
   "execution_count": 58,
   "id": "330e59f8",
   "metadata": {
    "scrolled": true
   },
   "outputs": [
    {
     "data": {
      "text/plain": [
       "OrderedDict([(1, <__main__.Card at 0x28cffe930a0>),\n",
       "             (2, <__main__.Card at 0x28cffdeadf0>),\n",
       "             (3, <__main__.Card at 0x28cffdea880>),\n",
       "             (4, <__main__.Card at 0x28cffdea5b0>),\n",
       "             (5, <__main__.Card at 0x28cffded700>),\n",
       "             (6, <__main__.Card at 0x28cffded640>),\n",
       "             (7, <__main__.Card at 0x28cffded730>),\n",
       "             (8, <__main__.Card at 0x28cffded1f0>),\n",
       "             (9, <__main__.Card at 0x28cffded910>),\n",
       "             (10, <__main__.Card at 0x28cffded550>),\n",
       "             (11, <__main__.Card at 0x28cffded5e0>),\n",
       "             (12, <__main__.Card at 0x28cffdeddc0>),\n",
       "             (13, <__main__.Card at 0x28cffded340>),\n",
       "             (14, <__main__.Card at 0x28cffdedb50>),\n",
       "             (15, <__main__.Card at 0x28cffdedac0>),\n",
       "             (16, <__main__.Card at 0x28cffded9a0>),\n",
       "             (17, <__main__.Card at 0x28cffdedfa0>),\n",
       "             (18, <__main__.Card at 0x28cffded4f0>),\n",
       "             (19, <__main__.Card at 0x28cffded8e0>),\n",
       "             (20, <__main__.Card at 0x28cffded6d0>),\n",
       "             (21, <__main__.Card at 0x28cffded070>),\n",
       "             (22, <__main__.Card at 0x28cffded370>),\n",
       "             (23, <__main__.Card at 0x28cffdedc40>),\n",
       "             (24, <__main__.Card at 0x28cffdeda90>),\n",
       "             (25, <__main__.Card at 0x28cffdeda00>),\n",
       "             (26, <__main__.Card at 0x28cffded220>),\n",
       "             (27, <__main__.Card at 0x28cffdedf40>),\n",
       "             (28, <__main__.Card at 0x28cffdedd90>),\n",
       "             (29, <__main__.Card at 0x28cffded160>),\n",
       "             (30, <__main__.Card at 0x28cffded610>),\n",
       "             (31, <__main__.Card at 0x28cffded250>),\n",
       "             (32, <__main__.Card at 0x28cffded9d0>),\n",
       "             (33, <__main__.Card at 0x28cffded4c0>),\n",
       "             (34, <__main__.Card at 0x28cffdedca0>),\n",
       "             (35, <__main__.Card at 0x28cffded8b0>),\n",
       "             (36, <__main__.Card at 0x28cffded0a0>),\n",
       "             (37, <__main__.Card at 0x28cffded790>),\n",
       "             (38, <__main__.Card at 0x28cffdeda60>),\n",
       "             (39, <__main__.Card at 0x28cffdd3070>),\n",
       "             (40, <__main__.Card at 0x28cffdd3850>),\n",
       "             (41, <__main__.Card at 0x28cffdd38b0>),\n",
       "             (42, <__main__.Card at 0x28cffdd3550>),\n",
       "             (43, <__main__.Card at 0x28cffdd30d0>),\n",
       "             (44, <__main__.Card at 0x28cffdd3fd0>),\n",
       "             (45, <__main__.Card at 0x28cffdd3340>),\n",
       "             (46, <__main__.Card at 0x28cffdd3d60>),\n",
       "             (47, <__main__.Card at 0x28cffdd37c0>),\n",
       "             (48, <__main__.Card at 0x28cffdd3430>),\n",
       "             (49, <__main__.Card at 0x28cffdd3f40>),\n",
       "             (50, <__main__.Card at 0x28cffdd3520>),\n",
       "             (51, <__main__.Card at 0x28cffdd3460>),\n",
       "             (52, <__main__.Card at 0x28cffdd36d0>)])"
      ]
     },
     "execution_count": 58,
     "metadata": {},
     "output_type": "execute_result"
    }
   ],
   "source": [
    "first_game.card_map"
   ]
  },
  {
   "cell_type": "code",
   "execution_count": 59,
   "id": "3af2c5cd",
   "metadata": {},
   "outputs": [
    {
     "name": "stdout",
     "output_type": "stream",
     "text": [
      "Please input your name: \n",
      "Please input your email: \n",
      "Welcome Ashley, have fun!\n",
      "Please input your name: \n",
      "Please input your email: \n",
      "Welcome Linda, have fun!\n",
      "Please input your name: \n",
      "Please input your email: \n",
      "Welcome Andrew, have fun!\n",
      "Please input your name: \n",
      "Please input your email: \n",
      "Welcome Thomas, have fun!\n"
     ]
    }
   ],
   "source": [
    "first_game.prepare()"
   ]
  },
  {
   "cell_type": "code",
   "execution_count": 60,
   "id": "45bc34c7",
   "metadata": {},
   "outputs": [
    {
     "data": {
      "text/plain": [
       "'Thomas'"
      ]
     },
     "execution_count": 60,
     "metadata": {},
     "output_type": "execute_result"
    }
   ],
   "source": [
    "first_game.players[0].name"
   ]
  },
  {
   "cell_type": "code",
   "execution_count": 62,
   "id": "f9fae0f0",
   "metadata": {},
   "outputs": [
    {
     "data": {
      "text/plain": [
       "OrderedDict([(1, <__main__.Card at 0x28cffe930a0>),\n",
       "             (26, <__main__.Card at 0x28cffded220>),\n",
       "             (28, <__main__.Card at 0x28cffdedd90>),\n",
       "             (32, <__main__.Card at 0x28cffded9d0>),\n",
       "             (33, <__main__.Card at 0x28cffded4c0>),\n",
       "             (34, <__main__.Card at 0x28cffdedca0>),\n",
       "             (35, <__main__.Card at 0x28cffded8b0>),\n",
       "             (39, <__main__.Card at 0x28cffdd3070>),\n",
       "             (41, <__main__.Card at 0x28cffdd38b0>),\n",
       "             (42, <__main__.Card at 0x28cffdd3550>),\n",
       "             (43, <__main__.Card at 0x28cffdd30d0>),\n",
       "             (44, <__main__.Card at 0x28cffdd3fd0>),\n",
       "             (50, <__main__.Card at 0x28cffdd3520>)])"
      ]
     },
     "execution_count": 62,
     "metadata": {},
     "output_type": "execute_result"
    }
   ],
   "source": [
    "first_game.players[0].hand_card"
   ]
  },
  {
   "cell_type": "code",
   "execution_count": 65,
   "id": "bedecef4",
   "metadata": {},
   "outputs": [
    {
     "name": "stdout",
     "output_type": "stream",
     "text": [
      "This card is Heart 1. The uid of this card is 1.\n",
      "This card is Diamond 13. The uid of this card is 26.\n",
      "This card is Spade 2. The uid of this card is 28.\n",
      "This card is Spade 6. The uid of this card is 32.\n",
      "This card is Spade 7. The uid of this card is 33.\n",
      "it is available\n",
      "This card is Spade 8. The uid of this card is 34.\n",
      "This card is Spade 9. The uid of this card is 35.\n",
      "This card is Spade 13. The uid of this card is 39.\n",
      "This card is Club 2. The uid of this card is 41.\n",
      "This card is Club 3. The uid of this card is 42.\n",
      "This card is Club 4. The uid of this card is 43.\n",
      "This card is Club 5. The uid of this card is 44.\n",
      "This card is Club 11. The uid of this card is 50.\n"
     ]
    }
   ],
   "source": [
    "for card in first_game.players[0].hand_card.values():\n",
    "    print(card)\n",
    "    if card.available:\n",
    "        print('it is available')"
   ]
  },
  {
   "cell_type": "code",
   "execution_count": 54,
   "id": "52c39d62",
   "metadata": {},
   "outputs": [
    {
     "data": {
      "text/plain": [
       "'Spade 7'"
      ]
     },
     "execution_count": 54,
     "metadata": {},
     "output_type": "execute_result"
    }
   ],
   "source": [
    "first_game.players[0].hand_card[33].name"
   ]
  },
  {
   "cell_type": "code",
   "execution_count": 55,
   "id": "e01b208e",
   "metadata": {},
   "outputs": [
    {
     "data": {
      "text/plain": [
       "{16: 34,\n",
       " 1: 32,\n",
       " 11: 39,\n",
       " 36: 43,\n",
       " 42: 41,\n",
       " 37: 35,\n",
       " 35: 44,\n",
       " 46: 28,\n",
       " 39: 33,\n",
       " 22: 42,\n",
       " 6: 50,\n",
       " 13: 26,\n",
       " 38: 1}"
      ]
     },
     "execution_count": 55,
     "metadata": {},
     "output_type": "execute_result"
    }
   ],
   "source": [
    "first_game.players[0].decoder"
   ]
  },
  {
   "cell_type": "code",
   "execution_count": 30,
   "id": "bcd4e64c",
   "metadata": {},
   "outputs": [
    {
     "name": "stdout",
     "output_type": "stream",
     "text": [
      "This card is Spade 7. The uid of this card is 33.\n"
     ]
    }
   ],
   "source": [
    "print(first_game.card_map[33])"
   ]
  },
  {
   "cell_type": "code",
   "execution_count": 17,
   "id": "3e7a4708",
   "metadata": {},
   "outputs": [],
   "source": [
    "first_game.card_map[33].previous"
   ]
  },
  {
   "cell_type": "code",
   "execution_count": 20,
   "id": "cd6138f3",
   "metadata": {},
   "outputs": [
    {
     "data": {
      "text/plain": [
       "'Spade 6'"
      ]
     },
     "execution_count": 20,
     "metadata": {},
     "output_type": "execute_result"
    }
   ],
   "source": [
    "first_game.card_map[32].name"
   ]
  },
  {
   "cell_type": "code",
   "execution_count": 19,
   "id": "10363dd1",
   "metadata": {},
   "outputs": [
    {
     "data": {
      "text/plain": [
       "'Spade 7'"
      ]
     },
     "execution_count": 19,
     "metadata": {},
     "output_type": "execute_result"
    }
   ],
   "source": [
    "first_game.card_map[32].previous.name"
   ]
  },
  {
   "cell_type": "code",
   "execution_count": 21,
   "id": "2371f3a1",
   "metadata": {},
   "outputs": [
    {
     "data": {
      "text/plain": [
       "'Spade 8'"
      ]
     },
     "execution_count": 21,
     "metadata": {},
     "output_type": "execute_result"
    }
   ],
   "source": [
    "first_game.card_map[34].name"
   ]
  },
  {
   "cell_type": "code",
   "execution_count": 22,
   "id": "8fa7d621",
   "metadata": {},
   "outputs": [
    {
     "data": {
      "text/plain": [
       "'Spade 7'"
      ]
     },
     "execution_count": 22,
     "metadata": {},
     "output_type": "execute_result"
    }
   ],
   "source": [
    "first_game.card_map[34].previous.name"
   ]
  },
  {
   "cell_type": "code",
   "execution_count": 18,
   "id": "01bd8164",
   "metadata": {},
   "outputs": [
    {
     "ename": "CardNumberError",
     "evalue": "The numer 60 is larger than the allowed card number range: 1~52.",
     "output_type": "error",
     "traceback": [
      "\u001b[1;31m---------------------------------------------------------------------------\u001b[0m",
      "\u001b[1;31mCardNumberError\u001b[0m                           Traceback (most recent call last)",
      "Input \u001b[1;32mIn [18]\u001b[0m, in \u001b[0;36m<cell line: 2>\u001b[1;34m()\u001b[0m\n\u001b[0;32m      1\u001b[0m \u001b[38;5;66;03m# test\u001b[39;00m\n\u001b[1;32m----> 2\u001b[0m test_card \u001b[38;5;241m=\u001b[39m \u001b[43mCard\u001b[49m\u001b[43m(\u001b[49m\u001b[38;5;241;43m60\u001b[39;49m\u001b[43m)\u001b[49m\n",
      "Input \u001b[1;32mIn [17]\u001b[0m, in \u001b[0;36mCard.__init__\u001b[1;34m(self, number)\u001b[0m\n\u001b[0;32m      8\u001b[0m \u001b[38;5;28;01mdef\u001b[39;00m \u001b[38;5;21m__init__\u001b[39m(\u001b[38;5;28mself\u001b[39m, number):\n\u001b[0;32m      9\u001b[0m     \u001b[38;5;28;01mif\u001b[39;00m number \u001b[38;5;241m>\u001b[39m \u001b[38;5;241m52\u001b[39m:\n\u001b[1;32m---> 10\u001b[0m         \u001b[38;5;28;01mraise\u001b[39;00m CardNumberError(\u001b[38;5;124m'\u001b[39m\u001b[38;5;124mlarger\u001b[39m\u001b[38;5;124m'\u001b[39m, number)\n\u001b[0;32m     11\u001b[0m     \u001b[38;5;28;01melif\u001b[39;00m number \u001b[38;5;241m<\u001b[39m \u001b[38;5;241m1\u001b[39m:\n\u001b[0;32m     12\u001b[0m         \u001b[38;5;28;01mraise\u001b[39;00m CardNumberError(\u001b[38;5;124m'\u001b[39m\u001b[38;5;124msmaller\u001b[39m\u001b[38;5;124m'\u001b[39m, number)\n",
      "\u001b[1;31mCardNumberError\u001b[0m: The numer 60 is larger than the allowed card number range: 1~52."
     ]
    }
   ],
   "source": [
    "# test\n",
    "test_card = Card(60)"
   ]
  },
  {
   "cell_type": "code",
   "execution_count": 8,
   "id": "78d24b61",
   "metadata": {},
   "outputs": [
    {
     "data": {
      "text/plain": [
       "<__main__.Card at 0x238477ad430>"
      ]
     },
     "execution_count": 8,
     "metadata": {},
     "output_type": "execute_result"
    }
   ],
   "source": [
    "test_card"
   ]
  },
  {
   "cell_type": "code",
   "execution_count": 10,
   "id": "35bfbf9d",
   "metadata": {},
   "outputs": [
    {
     "data": {
      "text/plain": [
       "'Diamond 7'"
      ]
     },
     "execution_count": 10,
     "metadata": {},
     "output_type": "execute_result"
    }
   ],
   "source": [
    "test_card.name()"
   ]
  },
  {
   "cell_type": "code",
   "execution_count": 12,
   "id": "75f2f3a9",
   "metadata": {},
   "outputs": [
    {
     "name": "stdout",
     "output_type": "stream",
     "text": [
      "This card is Diamond 7. The uid of this card is 20.\n"
     ]
    }
   ],
   "source": [
    "print(test_card)"
   ]
  },
  {
   "cell_type": "code",
   "execution_count": null,
   "id": "0f903bb8",
   "metadata": {},
   "outputs": [],
   "source": []
  }
 ],
 "metadata": {
  "kernelspec": {
   "display_name": "Python 3 (ipykernel)",
   "language": "python",
   "name": "python3"
  },
  "language_info": {
   "codemirror_mode": {
    "name": "ipython",
    "version": 3
   },
   "file_extension": ".py",
   "mimetype": "text/x-python",
   "name": "python",
   "nbconvert_exporter": "python",
   "pygments_lexer": "ipython3",
   "version": "3.9.12"
  }
 },
 "nbformat": 4,
 "nbformat_minor": 5
}
