{
 "cells": [
  {
   "cell_type": "markdown",
   "id": "8963e24e",
   "metadata": {},
   "source": [
    "## Card Game Suppress Seven"
   ]
  },
  {
   "cell_type": "markdown",
   "id": "3765bb68",
   "metadata": {},
   "source": [
    "### Rules\n",
    "    - Use the 52 cards in 4 colors: Heart, Diamond, Spade and Club.\n",
    "    - Four players, each one gets 13 cards in the beginning.\n",
    "    - The player who has Spade 7 on hand goes first.\n",
    "    - The players must use the cards which have the same color and consecutive number to the cards on the board.\n",
    "        - For example, if there is ♠7 on board, the next player must use ♠6, ♠8 or ♥7,♦7,♣7.\n",
    "    - If a player has not card can be used, he/she needs to suppress one card. This card should not be seen by the other players until the end of this game.\n",
    "    - The total points of the suppressed cards would be calculated at the end of the game, the one has the least points win."
   ]
  },
  {
   "cell_type": "code",
   "execution_count": 6,
   "id": "b563da2d",
   "metadata": {},
   "outputs": [],
   "source": [
    "# It is the card class, there are 52 cards in total, 13 cards for each suit. \n",
    "# So that we use the id between 1 and 52 to initialize the card.\n",
    "class Card:\n",
    "    suit_map = {0: 'Heart',\n",
    "                1: 'Diamond',\n",
    "                2: 'Spade',\n",
    "                3: 'Club'}\n",
    "    def __init__(self, number):\n",
    "        if number > 52:\n",
    "            raise ValueError\n",
    "        elif number < 1:\n",
    "            raise ValueError\n",
    "        else:\n",
    "            self.number = (number-1)%13+1     # it is the number of this card, no matter which suit, 1-13\n",
    "            self.suit = Card.suit_map[(number-1)//13] # it is the suit, one of the four\n",
    "            self.card_id = number              # it is the id of the card, each card has an unique id, 1-52\n",
    "    def __str__(self):\n",
    "        return f\"This card is {self.suit} {self.number}. The uid of this card is {self.card_id}.\"\n",
    "    \n",
    "    def name(self):\n",
    "        return f\"{self.suit} {self.number}\""
   ]
  },
  {
   "cell_type": "code",
   "execution_count": 7,
   "id": "b9cfe1f8",
   "metadata": {},
   "outputs": [],
   "source": [
    "# test\n",
    "test_card = Card(20)"
   ]
  },
  {
   "cell_type": "code",
   "execution_count": 8,
   "id": "88b42040",
   "metadata": {},
   "outputs": [
    {
     "data": {
      "text/plain": [
       "<__main__.Card at 0x238477ad430>"
      ]
     },
     "execution_count": 8,
     "metadata": {},
     "output_type": "execute_result"
    }
   ],
   "source": [
    "test_card"
   ]
  },
  {
   "cell_type": "code",
   "execution_count": 10,
   "id": "d711762f",
   "metadata": {},
   "outputs": [
    {
     "data": {
      "text/plain": [
       "'Diamond 7'"
      ]
     },
     "execution_count": 10,
     "metadata": {},
     "output_type": "execute_result"
    }
   ],
   "source": [
    "test_card.name()"
   ]
  },
  {
   "cell_type": "code",
   "execution_count": 12,
   "id": "539b1f02",
   "metadata": {},
   "outputs": [
    {
     "name": "stdout",
     "output_type": "stream",
     "text": [
      "This card is Diamond 7. The uid of this card is 20.\n"
     ]
    }
   ],
   "source": [
    "print(test_card)"
   ]
  },
  {
   "cell_type": "code",
   "execution_count": null,
   "id": "2ff72e54",
   "metadata": {},
   "outputs": [],
   "source": []
  }
 ],
 "metadata": {
  "kernelspec": {
   "display_name": "Python 3 (ipykernel)",
   "language": "python",
   "name": "python3"
  },
  "language_info": {
   "codemirror_mode": {
    "name": "ipython",
    "version": 3
   },
   "file_extension": ".py",
   "mimetype": "text/x-python",
   "name": "python",
   "nbconvert_exporter": "python",
   "pygments_lexer": "ipython3",
   "version": "3.9.12"
  }
 },
 "nbformat": 4,
 "nbformat_minor": 5
}
